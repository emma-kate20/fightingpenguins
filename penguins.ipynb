{
    "cells": [
        {
            "cell_type": "code",
            "execution_count": 36,
            "metadata": {},
            "outputs": [
                {
                    "name": "stdout",
                    "output_type": "stream",
                    "text": [
                        "     island  culmen_length_mm  culmen_depth_mm  flipper_length_mm  \\\n",
                        "0         2              39.1             18.7              181.0   \n",
                        "1         2              39.5             17.4              186.0   \n",
                        "2         2              40.3             18.0              195.0   \n",
                        "3         2               NaN              NaN                NaN   \n",
                        "4         2              36.7             19.3              193.0   \n",
                        "..      ...               ...              ...                ...   \n",
                        "339       1              55.8             19.8              207.0   \n",
                        "340       1              43.5             18.1              202.0   \n",
                        "341       1              49.6             18.2              193.0   \n",
                        "342       1              50.8             19.0              210.0   \n",
                        "343       1              50.2             18.7              198.0   \n",
                        "\n",
                        "     body_mass_g  delta_15_N  delta_13_C  species  \n",
                        "0         3750.0         NaN         NaN        0  \n",
                        "1         3800.0     8.94956   -24.69454        0  \n",
                        "2         3250.0     8.36821   -25.33302        0  \n",
                        "3            NaN         NaN         NaN        0  \n",
                        "4         3450.0     8.76651   -25.32426        0  \n",
                        "..           ...         ...         ...      ...  \n",
                        "339       4000.0     9.70465   -24.53494        1  \n",
                        "340       3400.0     9.37608   -24.40753        1  \n",
                        "341       3775.0     9.46180   -24.70615        1  \n",
                        "342       4100.0     9.98044   -24.68741        1  \n",
                        "343       3775.0     9.39305   -24.25255        1  \n",
                        "\n",
                        "[344 rows x 8 columns]\n"
                    ]
                }
            ],
            "source": [
                "import numpy as np\n",
                "import pandas as pd\n",
                "from sklearn.tree import DecisionTreeClassifier,plot_tree\n",
                "from sklearn.preprocessing import MinMaxScaler, LabelEncoder, StandardScaler, _data\n",
                "# from sklearn.metrics import accuracy_score, precision_score, recall_score\n",
                "# from plot_helpers import plot_learning_curve\n",
                "from sklearn.model_selection import train_test_split\n",
                "# import matplotlib.pyplot as plt\n",
                "# from sklearn.svm import SVC\n",
                "\n",
                "path = 'penguin_dataset.csv'\n",
                "df = pd.read_csv(path)\n",
                "df = df.drop(['individual_id','date_egg','sex', 'clutch_completion'],axis=1)\n",
                "# print(df)\n",
                "\n",
                "le = LabelEncoder()\n",
                "\n",
                "df['island'] = le.fit_transform(df['island'])\n",
                "df['species'] = le.fit_transform(df['species'])\n",
                "\n",
                "print(df)\n",
                "\n",
                "train_x, test_x, train_y, test_y = train_test_split(df, df['species'], random_state=42, train_size=0.8,test_size=0.2,shuffle=True)\n",
                "\n",
                "scaler = StandardScaler()\n",
                "\n",
                "scaler.fit(train_x)\n",
                "\n",
                "train_x = scaler.transform(train_x)\n",
                "test_x = scaler.transform(test_x)"
            ]
        }
    ],
    "metadata": {
        "kernelspec": {
            "display_name": "Python 3.10.6 ('CIS377')",
            "language": "python",
            "name": "python3"
        },
        "language_info": {
            "codemirror_mode": {
                "name": "ipython",
                "version": 3
            },
            "file_extension": ".py",
            "mimetype": "text/x-python",
            "name": "python",
            "nbconvert_exporter": "python",
            "pygments_lexer": "ipython3",
            "version": "3.10.6"
        },
        "orig_nbformat": 4,
        "vscode": {
            "interpreter": {
                "hash": "ae27e5faff12d3b35142a2b07ac9769f6eb8241ce309f37c8919cf630e5a59b6"
            }
        }
    },
    "nbformat": 4,
    "nbformat_minor": 2
}

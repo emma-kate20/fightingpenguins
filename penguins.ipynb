{
 "cells": [
  {
   "cell_type": "code",
   "execution_count": 30,
   "metadata": {},
   "outputs": [
    {
     "name": "stdout",
     "output_type": "stream",
     "text": [
      "     island clutch_completion  culmen_length_mm  culmen_depth_mm  \\\n",
      "0         2               Yes              39.1             18.7   \n",
      "1         2               Yes              39.5             17.4   \n",
      "2         2               Yes              40.3             18.0   \n",
      "3         2               Yes               NaN              NaN   \n",
      "4         2               Yes              36.7             19.3   \n",
      "..      ...               ...               ...              ...   \n",
      "339       1               Yes              55.8             19.8   \n",
      "340       1                No              43.5             18.1   \n",
      "341       1                No              49.6             18.2   \n",
      "342       1               Yes              50.8             19.0   \n",
      "343       1               Yes              50.2             18.7   \n",
      "\n",
      "     flipper_length_mm  body_mass_g  delta_15_N  delta_13_C  species  \n",
      "0                181.0       3750.0         NaN         NaN        0  \n",
      "1                186.0       3800.0     8.94956   -24.69454        0  \n",
      "2                195.0       3250.0     8.36821   -25.33302        0  \n",
      "3                  NaN          NaN         NaN         NaN        0  \n",
      "4                193.0       3450.0     8.76651   -25.32426        0  \n",
      "..                 ...          ...         ...         ...      ...  \n",
      "339              207.0       4000.0     9.70465   -24.53494        1  \n",
      "340              202.0       3400.0     9.37608   -24.40753        1  \n",
      "341              193.0       3775.0     9.46180   -24.70615        1  \n",
      "342              210.0       4100.0     9.98044   -24.68741        1  \n",
      "343              198.0       3775.0     9.39305   -24.25255        1  \n",
      "\n",
      "[344 rows x 9 columns]\n"
     ]
    },
    {
     "ename": "KeyError",
     "evalue": "'out'",
     "output_type": "error",
     "traceback": [
      "\u001b[0;31m---------------------------------------------------------------------------\u001b[0m",
      "\u001b[0;31mKeyError\u001b[0m                                  Traceback (most recent call last)",
      "File \u001b[0;32m~/opt/anaconda3/envs/CIS377/lib/python3.10/site-packages/pandas/core/indexes/base.py:3803\u001b[0m, in \u001b[0;36mIndex.get_loc\u001b[0;34m(self, key, method, tolerance)\u001b[0m\n\u001b[1;32m   3802\u001b[0m \u001b[39mtry\u001b[39;00m:\n\u001b[0;32m-> 3803\u001b[0m     \u001b[39mreturn\u001b[39;00m \u001b[39mself\u001b[39;49m\u001b[39m.\u001b[39;49m_engine\u001b[39m.\u001b[39;49mget_loc(casted_key)\n\u001b[1;32m   3804\u001b[0m \u001b[39mexcept\u001b[39;00m \u001b[39mKeyError\u001b[39;00m \u001b[39mas\u001b[39;00m err:\n",
      "File \u001b[0;32m~/opt/anaconda3/envs/CIS377/lib/python3.10/site-packages/pandas/_libs/index.pyx:138\u001b[0m, in \u001b[0;36mpandas._libs.index.IndexEngine.get_loc\u001b[0;34m()\u001b[0m\n",
      "File \u001b[0;32m~/opt/anaconda3/envs/CIS377/lib/python3.10/site-packages/pandas/_libs/index.pyx:165\u001b[0m, in \u001b[0;36mpandas._libs.index.IndexEngine.get_loc\u001b[0;34m()\u001b[0m\n",
      "File \u001b[0;32mpandas/_libs/hashtable_class_helper.pxi:5745\u001b[0m, in \u001b[0;36mpandas._libs.hashtable.PyObjectHashTable.get_item\u001b[0;34m()\u001b[0m\n",
      "File \u001b[0;32mpandas/_libs/hashtable_class_helper.pxi:5753\u001b[0m, in \u001b[0;36mpandas._libs.hashtable.PyObjectHashTable.get_item\u001b[0;34m()\u001b[0m\n",
      "\u001b[0;31mKeyError\u001b[0m: 'out'",
      "\nThe above exception was the direct cause of the following exception:\n",
      "\u001b[0;31mKeyError\u001b[0m                                  Traceback (most recent call last)",
      "\u001b[1;32m/Users/savan/Documents/GitHub/fightingpenguins/penguins.ipynb Cell 1\u001b[0m in \u001b[0;36m<cell line: 23>\u001b[0;34m()\u001b[0m\n\u001b[1;32m     <a href='vscode-notebook-cell:/Users/savan/Documents/GitHub/fightingpenguins/penguins.ipynb#W0sZmlsZQ%3D%3D?line=18'>19</a>\u001b[0m df[\u001b[39m'\u001b[39m\u001b[39mspecies\u001b[39m\u001b[39m'\u001b[39m] \u001b[39m=\u001b[39m le\u001b[39m.\u001b[39mfit_transform(df[\u001b[39m'\u001b[39m\u001b[39mspecies\u001b[39m\u001b[39m'\u001b[39m])\n\u001b[1;32m     <a href='vscode-notebook-cell:/Users/savan/Documents/GitHub/fightingpenguins/penguins.ipynb#W0sZmlsZQ%3D%3D?line=20'>21</a>\u001b[0m \u001b[39mprint\u001b[39m(df)\n\u001b[0;32m---> <a href='vscode-notebook-cell:/Users/savan/Documents/GitHub/fightingpenguins/penguins.ipynb#W0sZmlsZQ%3D%3D?line=22'>23</a>\u001b[0m train_x, test_x, train_y, test_y \u001b[39m=\u001b[39m train_test_split(df, df[\u001b[39m'\u001b[39;49m\u001b[39mout\u001b[39;49m\u001b[39m'\u001b[39;49m], random_state\u001b[39m=\u001b[39m\u001b[39m42\u001b[39m, train_size\u001b[39m=\u001b[39m\u001b[39m0.8\u001b[39m,test_size\u001b[39m=\u001b[39m\u001b[39m0.2\u001b[39m,shuffle\u001b[39m=\u001b[39m\u001b[39mTrue\u001b[39;00m)\n\u001b[1;32m     <a href='vscode-notebook-cell:/Users/savan/Documents/GitHub/fightingpenguins/penguins.ipynb#W0sZmlsZQ%3D%3D?line=24'>25</a>\u001b[0m scaler \u001b[39m=\u001b[39m StandardScaler()\n\u001b[1;32m     <a href='vscode-notebook-cell:/Users/savan/Documents/GitHub/fightingpenguins/penguins.ipynb#W0sZmlsZQ%3D%3D?line=26'>27</a>\u001b[0m scaler\u001b[39m.\u001b[39mfit(train_x)\n",
      "File \u001b[0;32m~/opt/anaconda3/envs/CIS377/lib/python3.10/site-packages/pandas/core/frame.py:3804\u001b[0m, in \u001b[0;36mDataFrame.__getitem__\u001b[0;34m(self, key)\u001b[0m\n\u001b[1;32m   3802\u001b[0m \u001b[39mif\u001b[39;00m \u001b[39mself\u001b[39m\u001b[39m.\u001b[39mcolumns\u001b[39m.\u001b[39mnlevels \u001b[39m>\u001b[39m \u001b[39m1\u001b[39m:\n\u001b[1;32m   3803\u001b[0m     \u001b[39mreturn\u001b[39;00m \u001b[39mself\u001b[39m\u001b[39m.\u001b[39m_getitem_multilevel(key)\n\u001b[0;32m-> 3804\u001b[0m indexer \u001b[39m=\u001b[39m \u001b[39mself\u001b[39;49m\u001b[39m.\u001b[39;49mcolumns\u001b[39m.\u001b[39;49mget_loc(key)\n\u001b[1;32m   3805\u001b[0m \u001b[39mif\u001b[39;00m is_integer(indexer):\n\u001b[1;32m   3806\u001b[0m     indexer \u001b[39m=\u001b[39m [indexer]\n",
      "File \u001b[0;32m~/opt/anaconda3/envs/CIS377/lib/python3.10/site-packages/pandas/core/indexes/base.py:3805\u001b[0m, in \u001b[0;36mIndex.get_loc\u001b[0;34m(self, key, method, tolerance)\u001b[0m\n\u001b[1;32m   3803\u001b[0m     \u001b[39mreturn\u001b[39;00m \u001b[39mself\u001b[39m\u001b[39m.\u001b[39m_engine\u001b[39m.\u001b[39mget_loc(casted_key)\n\u001b[1;32m   3804\u001b[0m \u001b[39mexcept\u001b[39;00m \u001b[39mKeyError\u001b[39;00m \u001b[39mas\u001b[39;00m err:\n\u001b[0;32m-> 3805\u001b[0m     \u001b[39mraise\u001b[39;00m \u001b[39mKeyError\u001b[39;00m(key) \u001b[39mfrom\u001b[39;00m \u001b[39merr\u001b[39;00m\n\u001b[1;32m   3806\u001b[0m \u001b[39mexcept\u001b[39;00m \u001b[39mTypeError\u001b[39;00m:\n\u001b[1;32m   3807\u001b[0m     \u001b[39m# If we have a listlike key, _check_indexing_error will raise\u001b[39;00m\n\u001b[1;32m   3808\u001b[0m     \u001b[39m#  InvalidIndexError. Otherwise we fall through and re-raise\u001b[39;00m\n\u001b[1;32m   3809\u001b[0m     \u001b[39m#  the TypeError.\u001b[39;00m\n\u001b[1;32m   3810\u001b[0m     \u001b[39mself\u001b[39m\u001b[39m.\u001b[39m_check_indexing_error(key)\n",
      "\u001b[0;31mKeyError\u001b[0m: 'out'"
     ]
    }
   ],
   "source": [
    "import numpy as np\n",
    "import pandas as pd\n",
    "from sklearn.tree import DecisionTreeClassifier,plot_tree\n",
    "from sklearn.preprocessing import MinMaxScaler, LabelEncoder, StandardScaler, _data\n",
    "# from sklearn.metrics import accuracy_score, precision_score, recall_score\n",
    "# from plot_helpers import plot_learning_curve\n",
    "from sklearn.model_selection import train_test_split\n",
    "# import matplotlib.pyplot as plt\n",
    "# from sklearn.svm import SVC\n",
    "\n",
    "path = 'penguin_dataset.csv'\n",
    "df = pd.read_csv(path)\n",
    "df = df.drop(['individual_id','date_egg','sex'],axis=1)\n",
    "# print(df)\n",
    "\n",
    "le = LabelEncoder()\n",
    "\n",
    "df['island'] = le.fit_transform(df['island'])\n",
    "df['species'] = le.fit_transform(df['species'])\n",
    "\n",
    "print(df)\n",
    "\n",
    "train_x, test_x, train_y, test_y = train_test_split(df, df['out'], random_state=42, train_size=0.8,test_size=0.2,shuffle=True)\n",
    "\n",
    "scaler = StandardScaler()\n",
    "\n",
    "scaler.fit(train_x)\n",
    "\n",
    "train_x = scaler.transform(train_x)\n",
    "test_x = scaler.transform(test_x)"
   ]
  }
 ],
 "metadata": {
  "kernelspec": {
   "display_name": "Python 3.10.6 ('CIS377')",
   "language": "python",
   "name": "python3"
  },
  "language_info": {
   "codemirror_mode": {
    "name": "ipython",
    "version": 3
   },
   "file_extension": ".py",
   "mimetype": "text/x-python",
   "name": "python",
   "nbconvert_exporter": "python",
   "pygments_lexer": "ipython3",
   "version": "3.10.6"
  },
  "orig_nbformat": 4,
  "vscode": {
   "interpreter": {
    "hash": "ae27e5faff12d3b35142a2b07ac9769f6eb8241ce309f37c8919cf630e5a59b6"
   }
  }
 },
 "nbformat": 4,
 "nbformat_minor": 2
}
